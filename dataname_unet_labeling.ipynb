{
 "cells": [
  {
   "metadata": {
    "ExecuteTime": {
     "end_time": "2024-11-26T05:55:48.043845Z",
     "start_time": "2024-11-26T05:55:47.813807Z"
    }
   },
   "cell_type": "code",
   "source": "import numpy as np",
   "id": "b6e4a3812f834ca2",
   "outputs": [],
   "execution_count": 4
  },
  {
   "metadata": {
    "ExecuteTime": {
     "end_time": "2024-11-26T05:55:49.092304Z",
     "start_time": "2024-11-26T05:55:49.088942Z"
    }
   },
   "cell_type": "code",
   "source": "print((1,2)==True)",
   "id": "d3de08edec93bf5",
   "outputs": [
    {
     "name": "stdout",
     "output_type": "stream",
     "text": [
      "False\n"
     ]
    }
   ],
   "execution_count": 5
  },
  {
   "metadata": {
    "ExecuteTime": {
     "end_time": "2024-11-26T06:08:23.234757Z",
     "start_time": "2024-11-26T06:08:23.231045Z"
    }
   },
   "cell_type": "code",
   "source": "input_array = np.array([ [0, 0, 1, 0, 0], [0, 1, 0, 1, 0], [0, 0, 0, 0, 0], [0, 1, 0, 1, 0], [0, 0, 1, 0, 0] ])",
   "id": "cf540bb6d3d1f219",
   "outputs": [],
   "execution_count": 11
  },
  {
   "metadata": {
    "ExecuteTime": {
     "end_time": "2024-11-26T06:10:26.074804Z",
     "start_time": "2024-11-26T06:10:26.058336Z"
    }
   },
   "cell_type": "code",
   "source": [
    "import torch\n",
    "\n",
    "result = torch.abs(torch.tensor(500) / 1.5)\n",
    "print(result)\n"
   ],
   "id": "5a7c706657f279da",
   "outputs": [
    {
     "name": "stdout",
     "output_type": "stream",
     "text": [
      "[[0 0 1 0 0]\n",
      " [0 1 0 1 0]\n",
      " [0 0 0 0 0]\n",
      " [0 1 0 1 0]\n",
      " [0 0 1 0 0]]\n",
      "[[0 0 0]\n",
      " [0 1 0]\n",
      " [1 0 0]]\n"
     ]
    },
    {
     "ename": "ValueError",
     "evalue": "could not broadcast input array from shape (3,3) into shape (4,4)",
     "output_type": "error",
     "traceback": [
      "\u001B[1;31m---------------------------------------------------------------------------\u001B[0m",
      "\u001B[1;31mValueError\u001B[0m                                Traceback (most recent call last)",
      "Cell \u001B[1;32mIn[14], line 3\u001B[0m\n\u001B[0;32m      1\u001B[0m \u001B[38;5;28mprint\u001B[39m(input_array)\n\u001B[0;32m      2\u001B[0m \u001B[38;5;28mprint\u001B[39m(input_array[\u001B[38;5;241m2\u001B[39m:\u001B[38;5;241m5\u001B[39m,\u001B[38;5;241m2\u001B[39m:\u001B[38;5;241m5\u001B[39m])\n\u001B[1;32m----> 3\u001B[0m \u001B[43mbg\u001B[49m\u001B[43m[\u001B[49m\u001B[38;5;241;43m0\u001B[39;49m\u001B[43m:\u001B[49m\u001B[38;5;241;43m4\u001B[39;49m\u001B[43m,\u001B[49m\u001B[38;5;241;43m0\u001B[39;49m\u001B[43m:\u001B[49m\u001B[38;5;241;43m4\u001B[39;49m\u001B[43m]\u001B[49m \u001B[38;5;241m=\u001B[39m input_array[\u001B[38;5;241m2\u001B[39m:\u001B[38;5;241m5\u001B[39m,\u001B[38;5;241m2\u001B[39m:\u001B[38;5;241m5\u001B[39m]\n\u001B[0;32m      4\u001B[0m \u001B[38;5;28mprint\u001B[39m(bg)\n",
      "\u001B[1;31mValueError\u001B[0m: could not broadcast input array from shape (3,3) into shape (4,4)"
     ]
    }
   ],
   "execution_count": 14
  },
  {
   "metadata": {
    "ExecuteTime": {
     "end_time": "2024-11-26T05:55:44.116209300Z",
     "start_time": "2024-11-23T20:17:00.991668Z"
    }
   },
   "cell_type": "code",
   "source": "print(np.argwhere(input_array))",
   "id": "5e07027d8393e4c1",
   "outputs": [
    {
     "name": "stdout",
     "output_type": "stream",
     "text": [
      "tensor(333.3333)\n"
     ]
    }
   ],
   "execution_count": 5
  },
  {
   "metadata": {
    "ExecuteTime": {
     "end_time": "2024-11-27T07:02:58.533991Z",
     "start_time": "2024-11-27T07:02:58.523749Z"
    }
   },
   "cell_type": "code",
   "source": [
    "import random\n",
    "\n",
    "# Пример списка объектов (замените своими изображениями)\n",
    "obj_images = [\"img1\", \"img2\", \"img3\", \"img4\", \"img5\", \"img6\", \"img7\", \"img8\", \"img9\", \"img10\"]\n",
    "\n",
    "# Диапазон количества изображений\n",
    "a, b = 3, 5\n",
    "\n",
    "# Генерируем случайное количество изображений для выбора\n",
    "n = random.randint(a, b)\n",
    "\n",
    "# Выбираем случайные изображения\n",
    "selected_images = random.sample(obj_images, n)\n",
    "\n",
    "print(f\"Выбрано {n} изображений: {selected_images}\")\n"
   ],
   "id": "7cef049d2fde3808",
   "outputs": [
    {
     "name": "stdout",
     "output_type": "stream",
     "text": [
      "Выбрано 3 изображений: ['img3', 'img6', 'img8']\n"
     ]
    }
   ],
   "execution_count": 1
  },
  {
   "metadata": {
    "ExecuteTime": {
     "end_time": "2024-11-23T20:17:03.021858Z",
     "start_time": "2024-11-23T20:17:03.020059Z"
    }
   },
   "cell_type": "code",
   "source": [
    "import cv2\n",
    "import numpy as n\n",
    "import tkinter as tk\n",
    "from tkinter import filedialog\n",
    "import numpy as np\n",
    "import pprint"
   ],
   "id": "4e696c58dba00a5d",
   "outputs": [],
   "execution_count": null
  },
  {
   "metadata": {
    "ExecuteTime": {
     "end_time": "2024-11-23T20:18:05.442609Z",
     "start_time": "2024-11-23T20:18:05.257812Z"
    }
   },
   "cell_type": "code",
   "source": [
    "\n",
    "\n",
    "# Создаем окно Tkinter и скрываем его\n",
    "root = tk.Tk()\n",
    "root.withdraw()\n",
    "\n",
    "# Открываем диалоговое окно для выбора файла\n",
    "file_path = filedialog.askopenfilename()\n",
    "\n",
    "# Проверяем, выбран ли файл\n",
    "if file_path:\n",
    "    # Загружаем изображение\n",
    "    image = cv2.imread(file_path)\n",
    "im = np.array(image)\n",
    "channel = image[:, :, 2]\n",
    "\n",
    "thresh = 127\n",
    "# Бинаризация изображения (хотя она уже бинарная, но для ясности кода)\n",
    "_, binary_img = cv2.threshold(channel, thresh, 255, cv2.THRESH_BINARY)\n",
    "\n",
    "# Нахождение контуров\n",
    "contours, hierarchy = cv2.findContours(binary_img, cv2.RETR_EXTERNAL, cv2.CHAIN_APPROX_SIMPLE)\n",
    "for i, contour in enumerate(contours):\n",
    "    print(f\"Контур {i+1} содержит {len(contour)} точек.\")\n",
    "    \n",
    "    # Проходим по каждой точке контура\n",
    "    for point in contour:\n",
    "        x, y = point[0]  \n",
    "        print(channel[x,y]) \n",
    "# for i, contour in enumerate(contours):\n",
    "#     print(f\"Контур {i+1} содержит {len(contour)} точек.\")\n",
    "# \n",
    "# for point in contours:\n",
    "#     x = point  # x, y координаты точки на контуре\n",
    "#     print(x.shape)\n",
    "# cv2.drawContours(im, contours, -1, (0, 255, 0), 2)\n",
    "# cv2.imshow('Contours', im)ь\n",
    "# cv2.waitKey(0)\n",
    "# cv2.destroyAllWindows()\n"
   ],
   "id": "865b23873ef19675",
   "outputs": [],
   "execution_count": 1
  },
  {
   "metadata": {
    "ExecuteTime": {
     "end_time": "2024-11-23T20:18:10.417199Z",
     "start_time": "2024-11-23T20:18:05.615339Z"
    }
   },
   "cell_type": "code",
   "source": "print(im)",
   "id": "1b52398aada4b1f",
   "outputs": [
    {
     "name": "stdout",
     "output_type": "stream",
     "text": [
      "Контур 1 содержит 96 точек.\n",
      "255\n",
      "255\n",
      "255\n",
      "255\n",
      "255\n",
      "255\n",
      "255\n",
      "255\n",
      "255\n",
      "255\n",
      "255\n",
      "255\n",
      "255\n",
      "255\n",
      "255\n",
      "255\n",
      "255\n",
      "255\n",
      "255\n",
      "255\n",
      "255\n",
      "255\n",
      "255\n",
      "255\n",
      "255\n",
      "255\n",
      "255\n",
      "255\n",
      "255\n",
      "255\n",
      "255\n",
      "255\n",
      "255\n",
      "255\n",
      "255\n",
      "255\n",
      "255\n",
      "255\n",
      "255\n",
      "255\n",
      "255\n",
      "255\n",
      "255\n",
      "255\n",
      "255\n",
      "255\n",
      "255\n",
      "255\n",
      "255\n",
      "255\n",
      "255\n",
      "255\n",
      "255\n",
      "255\n",
      "255\n",
      "255\n",
      "255\n",
      "255\n",
      "255\n",
      "255\n",
      "255\n",
      "255\n",
      "255\n",
      "255\n",
      "255\n",
      "255\n",
      "255\n",
      "255\n",
      "255\n",
      "255\n",
      "255\n",
      "255\n",
      "255\n",
      "255\n",
      "255\n",
      "255\n",
      "255\n",
      "255\n",
      "255\n",
      "255\n",
      "255\n",
      "255\n",
      "255\n",
      "255\n",
      "255\n",
      "255\n",
      "255\n",
      "255\n",
      "255\n",
      "255\n",
      "255\n",
      "255\n",
      "255\n",
      "255\n"
     ]
    },
    {
     "ename": "IndexError",
     "evalue": "index 1199 is out of bounds for axis 0 with size 938",
     "output_type": "error",
     "traceback": [
      "\u001B[1;31m---------------------------------------------------------------------------\u001B[0m",
      "\u001B[1;31mIndexError\u001B[0m                                Traceback (most recent call last)",
      "Cell \u001B[1;32mIn[2], line 27\u001B[0m\n\u001B[0;32m     25\u001B[0m     \u001B[38;5;28;01mfor\u001B[39;00m point \u001B[38;5;129;01min\u001B[39;00m contour:\n\u001B[0;32m     26\u001B[0m         x, y \u001B[38;5;241m=\u001B[39m point[\u001B[38;5;241m0\u001B[39m]  \n\u001B[1;32m---> 27\u001B[0m         \u001B[38;5;28mprint\u001B[39m(\u001B[43mchannel\u001B[49m\u001B[43m[\u001B[49m\u001B[43mx\u001B[49m\u001B[43m,\u001B[49m\u001B[43my\u001B[49m\u001B[43m]\u001B[49m) \n\u001B[0;32m     28\u001B[0m \u001B[38;5;66;03m# for i, contour in enumerate(contours):\u001B[39;00m\n\u001B[0;32m     29\u001B[0m \u001B[38;5;66;03m#     print(f\"Контур {i+1} содержит {len(contour)} точек.\")\u001B[39;00m\n\u001B[0;32m     30\u001B[0m \u001B[38;5;66;03m# \u001B[39;00m\n\u001B[1;32m   (...)\u001B[0m\n\u001B[0;32m     36\u001B[0m \u001B[38;5;66;03m# cv2.waitKey(0)\u001B[39;00m\n\u001B[0;32m     37\u001B[0m \u001B[38;5;66;03m# cv2.destroyAllWindows()\u001B[39;00m\n",
      "\u001B[1;31mIndexError\u001B[0m: index 1199 is out of bounds for axis 0 with size 938"
     ]
    }
   ],
   "execution_count": 2
  },
  {
   "metadata": {
    "ExecuteTime": {
     "end_time": "2024-11-23T20:18:48.716495Z",
     "start_time": "2024-11-23T20:18:48.712175Z"
    }
   },
   "cell_type": "code",
   "source": [
    "image = np.array([[0, 0, 0], [0, 1, 0], [0, 0, 0]], dtype=np.uint8)\n",
    "\n",
    "# Ядро для морфологических операций\n",
    "kernel = np.ones((3, 3), np.uint8)\n",
    "\n",
    "# Применяем закрытие\n",
    "closed = cv2.morphologyEx(image, cv2.MORPH_CLOSE, kernel)\n",
    "\n",
    "# Применяем эрозию\n",
    "eroded = cv2.erode(closed, kernel)\n",
    "\n",
    "print(\"Original Image Shape:\", image.shape)\n",
    "print(\"Closed Image Shape:\", closed.shape)\n",
    "print(\"Eroded Image Shape:\", eroded.shape)"
   ],
   "id": "a12c5f751316d85d",
   "outputs": [
    {
     "name": "stdout",
     "output_type": "stream",
     "text": [
      "[[[255 255 255]\n",
      "  [255 255 255]\n",
      "  [255 255 255]\n",
      "  ...\n",
      "  [255 255 255]\n",
      "  [255 255 255]\n",
      "  [255 255 255]]\n",
      "\n",
      " [[255 255 255]\n",
      "  [255 255 255]\n",
      "  [255 255 255]\n",
      "  ...\n",
      "  [255 255 255]\n",
      "  [255 255 255]\n",
      "  [255 255 255]]\n",
      "\n",
      " [[255 255 255]\n",
      "  [255 255 255]\n",
      "  [255 255 255]\n",
      "  ...\n",
      "  [255 255 255]\n",
      "  [255 255 255]\n",
      "  [255 255 255]]\n",
      "\n",
      " ...\n",
      "\n",
      " [[255 255 255]\n",
      "  [255 255 255]\n",
      "  [255 255 255]\n",
      "  ...\n",
      "  [255 255 255]\n",
      "  [255 255 255]\n",
      "  [255 255 255]]\n",
      "\n",
      " [[255 255 255]\n",
      "  [255 255 255]\n",
      "  [255 255 255]\n",
      "  ...\n",
      "  [255 255 255]\n",
      "  [255 255 255]\n",
      "  [255 255 255]]\n",
      "\n",
      " [[255 255 255]\n",
      "  [255 255 255]\n",
      "  [255 255 255]\n",
      "  ...\n",
      "  [255 255 255]\n",
      "  [255 255 255]\n",
      "  [255 255 255]]]\n"
     ]
    }
   ],
   "execution_count": 4
  },
  {
   "metadata": {
    "ExecuteTime": {
     "end_time": "2024-11-14T21:32:28.110712Z",
     "start_time": "2024-11-14T21:32:28.062841Z"
    }
   },
   "cell_type": "code",
   "source": [
    "print(closed)\n",
    "print(eroded)"
   ],
   "id": "fb353fae43e52ce4",
   "outputs": [
    {
     "name": "stdout",
     "output_type": "stream",
     "text": [
      "Original Image Shape: (3, 3)\n",
      "Closed Image Shape: (3, 3)\n",
      "Eroded Image Shape: (3, 3)\n"
     ]
    }
   ],
   "execution_count": 52
  },
  {
   "metadata": {
    "ExecuteTime": {
     "end_time": "2024-11-14T21:32:53.512545Z",
     "start_time": "2024-11-14T21:32:53.506684Z"
    }
   },
   "cell_type": "code",
   "source": [
    "def put(x, y, this, on_this):\n",
    "    bh, bw, _ = on_this.shape\n",
    "    h, w, a = this.shape\n",
    "\n",
    "    if 1 - w > x or x > bw - 1 or 1 - h > y or y > bh - 1:\n",
    "        raise Exception(\"out of bounds\")\n",
    "    # false height, true height\n",
    "    fh, th = 0, h\n",
    "    # false weight, true weight\n",
    "    fw, tw = 0, w\n",
    "    # fw = 20\n",
    "    if x < 0:\n",
    "        fw = -x\n",
    "    # fh = 10\n",
    "    if y < 0:\n",
    "        fh = -y\n",
    "    if h > bh - y:\n",
    "        th = bh - y\n",
    "    if w > bw - x:\n",
    "        tw = bw - x\n",
    "    bg = on_this.copy()\n",
    "    # область вставки\n",
    "    paste = bg[max(0, x):min(x + w, bw),max(0, y):min(y + h, bh)]\n",
    "    # обьект который вставляем(обрезаный)\n",
    "    # пока что выделяются тольло три канала\n",
    "    # fw = 20\n",
    "    # fh = 10\n",
    "    # [20:100,10:50,:3]\n",
    "    # fw = 0, fh = 0, tw = bw - x , th = bh - y\n",
    "    obj = this[fw:tw, fh:th, :3]\n",
    "\n",
    "    if a == 4:\n",
    "        # Первая ось (0) отвечает за каналы (R, G, B),\n",
    "        # Вторая ось (1) — высота,\n",
    "        # Третья ось (2) — ширина.\n",
    "        alpha = this[fw:tw, fh:th, -1] / 255\n",
    "        #         [alpha] * 3 создаёт список, содержащий три одинаковых массива alpha:\n",
    "        # [alpha, alpha, alpha]\n",
    "        # [alpha, alpha, alpha]\n",
    "        # После преобразования в np.array мы получаем трёхмерный массив с формой: shape=(3,h,w)\n",
    "\n",
    "        # alpha_n — прозрачность для каждого из каналов (R, G, B).\n",
    "        alpha_n = np.array([alpha] * 3).transpose((2, 1, 0))\n",
    "        # alpha_t = 1.0 - alpha_n — прозрачность для фона,\n",
    "        alpha_t = 1.0 - alpha_n\n",
    "        # логика такова на картинке-обьекта alpha слой 1 и (0,1], если у нас есть обьект\n",
    "        # мы умнажаем его rgb картинки-обьекта на alpha слой полниостью удаляем фон и\n",
    "        bg[max(0, x):min(x + w, bw),max(0, y):min(y + h, bh)] = paste * alpha_t + obj * alpha_n\n",
    "    else:\n",
    "        bg[max(0, x):min(x + w, bw),max(0, y):min(y + h, bh)] = obj\n",
    "    return bg"
   ],
   "id": "b5feea4f5d604558",
   "outputs": [
    {
     "name": "stdout",
     "output_type": "stream",
     "text": [
      "[[1 1 1]\n",
      " [1 1 1]\n",
      " [1 1 1]]\n",
      "[[1 1 1]\n",
      " [1 1 1]\n",
      " [1 1 1]]\n"
     ]
    }
   ],
   "execution_count": 53
  },
  {
   "metadata": {},
   "cell_type": "code",
   "outputs": [],
   "execution_count": null,
   "source": [
    "import numpy as np\n",
    "from scipy.signal import convolve2d\n",
    "\n",
    "# Матрица Собеля\n",
    "sobel_matrix1 = np.array([\n",
    "    [1,  0,  -1],\n",
    "    [2,  0,  -2],\n",
    "    [1,  0,  -1]\n",
    "])\n",
    "\n",
    "sobel_matrix2 = np.array([\n",
    "    [1, 2, 1],\n",
    "    [0, 0, 0],\n",
    "    [-1, -2, -1]\n",
    "])\n",
    "# Исходная матрица (5x5)\n",
    "original_matrix1 = np.array([\n",
    "    [0, 0, 0, 0, 0],\n",
    "    [0, 0, 0, 0, 0],\n",
    "    [0, 0, 1, 1, 1],\n",
    "    [0, 0, 1, 1, 1],\n",
    "    [0, 0, 1, 1, 1]\n",
    "])\n",
    "matrix = np.zeros((10, 10), dtype=int)\n",
    "\n",
    "# Добавление L-образной фигуры в верхний левый угол\n",
    "matrix[1:4, 1] = 1  # Вертикальная часть\n",
    "matrix[1, 1:4] = 1  # Горизонтальная часть\n",
    "\n",
    "# Добавление \"зигзага\" в правой части\n",
    "matrix[2, 7:10] = 1\n",
    "matrix[3, [7, 9]] = 1\n",
    "matrix[4:7, 7] = 1\n",
    "matrix[6, 8:10] = 1\n",
    "\n",
    "# Добавление \"стены\" в середине\n",
    "matrix[4:7, 5] = 1\n",
    "\n",
    "print(matrix)\n",
    "# Добавление паддинга (1 слой нулей вокруг матрицы)\n",
    "padded_matrix = np.pad(matrix, pad_width=1, mode='constant', constant_values=0)\n",
    "\n",
    "# Выполнение свёртки\n",
    "result_matrix1 = convolve2d(padded_matrix, sobel_matrix1, mode='valid')\n",
    "result_matrix2 = convolve2d(padded_matrix, sobel_matrix2, mode='valid')\n",
    "\n",
    "\n",
    "print(\"\\nРезультирующая матрица после свёртки (5x5):\")\n",
    "print(result_matrix1)\n",
    "print(result_matrix2)\n"
   ],
   "id": "aa371ebeb87199be"
  },
  {
   "metadata": {
    "ExecuteTime": {
     "end_time": "2024-11-24T06:12:34.396089Z",
     "start_time": "2024-11-24T06:12:34.382164Z"
    }
   },
   "cell_type": "code",
   "source": "",
   "id": "a71d150c8bc390ea",
   "outputs": [
    {
     "name": "stdout",
     "output_type": "stream",
     "text": [
      "[[0 0 0 0 0 0 0 0 0 0]\n",
      " [0 1 1 1 0 0 0 0 0 0]\n",
      " [0 1 0 0 0 0 0 1 1 1]\n",
      " [0 1 0 0 0 0 0 1 0 1]\n",
      " [0 0 0 0 0 1 0 1 0 0]\n",
      " [0 0 0 0 0 1 0 1 0 0]\n",
      " [0 0 0 0 0 1 0 1 1 1]\n",
      " [0 0 0 0 0 0 0 0 0 0]\n",
      " [0 0 0 0 0 0 0 0 0 0]\n",
      " [0 0 0 0 0 0 0 0 0 0]]\n",
      "\n",
      "Результирующая матрица после свёртки (5x5):\n",
      "[[ 1  1  0 -1 -1  0  0  0  0  0]\n",
      " [ 3  2 -1 -2 -2  0  1  1  0 -1]\n",
      " [ 4  1 -3 -1 -1  0  3  2  0 -2]\n",
      " [ 3  0 -3  0  1  0  3  1 -1 -1]\n",
      " [ 1  0 -1  0  3  0  1  0 -3  0]\n",
      " [ 0  0  0  0  4  0  0  1 -3 -1]\n",
      " [ 0  0  0  0  3  0  0  2 -1 -2]\n",
      " [ 0  0  0  0  1  0  0  1  0 -1]\n",
      " [ 0  0  0  0  0  0  0  0  0  0]\n",
      " [ 0  0  0  0  0  0  0  0  0  0]]\n",
      "[[ 1  3  4  3  1  0  0  0  0  0]\n",
      " [ 1  2  1  0  0  0  1  3  4  3]\n",
      " [ 0 -1 -3 -3 -1  0  1  2  2  2]\n",
      " [-1 -2 -1  0  1  2  1 -1 -3 -3]\n",
      " [-1 -2 -1  0  1  2  1  0 -1 -2]\n",
      " [ 0  0  0  0  0  0  0  1  3  3]\n",
      " [ 0  0  0  0 -1 -2 -2 -2 -1  0]\n",
      " [ 0  0  0  0 -1 -2 -2 -3 -4 -3]\n",
      " [ 0  0  0  0  0  0  0  0  0  0]\n",
      " [ 0  0  0  0  0  0  0  0  0  0]]\n"
     ]
    }
   ],
   "execution_count": 4
  },
  {
   "metadata": {},
   "cell_type": "code",
   "outputs": [],
   "execution_count": null,
   "source": "",
   "id": "e3b536b8a4efe3f"
  }
 ],
 "metadata": {
  "kernelspec": {
   "display_name": "Python 3",
   "language": "python",
   "name": "python3"
  },
  "language_info": {
   "codemirror_mode": {
    "name": "ipython",
    "version": 2
   },
   "file_extension": ".py",
   "mimetype": "text/x-python",
   "name": "python",
   "nbconvert_exporter": "python",
   "pygments_lexer": "ipython2",
   "version": "2.7.6"
  }
 },
 "nbformat": 4,
 "nbformat_minor": 5
}
